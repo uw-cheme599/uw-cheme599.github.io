{
 "cells": [
  {
   "cell_type": "markdown",
   "metadata": {},
   "source": [
    "## Patterns and Pattern Classes\n",
    "\n",
    "**Pattern**: an *arrangement* of *descriptors* or *features*.\n",
    "**Pattern class**: a family of patterns that share common properties ($\\omega_1, \\omega_1, \\omega_2, ... \\omega_N$)\n",
    "\n",
    "Pattern recognition involves assigning patterns to their respective pattern class.\n",
    "\n",
    "Patterns are represented as vectors of descriptors:\n",
    "\n",
    "$$\\textbf{x} = \\begin{bmatrix} \n",
    "x_1 \\\\\n",
    "x_2 \\\\\n",
    "... \\\\\n",
    "x_N\n",
    "\\end{bmatrix} $$"
   ]
  },
  {
   "cell_type": "code",
   "execution_count": null,
   "metadata": {},
   "outputs": [],
   "source": []
  }
 ],
 "metadata": {
  "kernelspec": {
   "display_name": "Python 3",
   "language": "python",
   "name": "python3"
  },
  "language_info": {
   "codemirror_mode": {
    "name": "ipython",
    "version": 3
   },
   "file_extension": ".py",
   "mimetype": "text/x-python",
   "name": "python",
   "nbconvert_exporter": "python",
   "pygments_lexer": "ipython3",
   "version": "3.7.2"
  }
 },
 "nbformat": 4,
 "nbformat_minor": 2
}
