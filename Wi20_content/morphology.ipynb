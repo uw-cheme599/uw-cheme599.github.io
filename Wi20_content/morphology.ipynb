{
 "cells": [
  {
   "cell_type": "markdown",
   "metadata": {},
   "source": [
    "**Morphology**: A tool for extracting image components that are useful in the representation and description of region shape, such as boundaries, skeletons, and the convex hull.\n",
    "\n",
    "**Set theory**: The branch of mathematics which deals with the formal properties of sets as units (without regard to the nature of their individual constituents) and the expression of other branches of mathematics in terms of sets."
   ]
  },
  {
   "cell_type": "markdown",
   "metadata": {},
   "source": [
    "## Introduction\n",
    "\n",
    "This topic is best started out with an example. Let's say you've taken some images on a TEM microscope of a fresh batch of nanoparticles. You want to use this to get some information about the size of your nanoparticles. You have access to the resolution of the microscope, and you have calculated the diameter of the size of a few nanoparticles by hand. But shouldn't there be a way to automate this process? You've tried a few simple manipulations in ImageJ by applying an intensity threshold to create a binary image, but you can tell that some objects in the image are noise, while other particles overlap. Both of these create inaccuracies in your size estimates.\n",
    "\n",
    "How do you approach this problem? This is where the *morphology* toolset comes in handy, and will hopefully aid us in being able to tackle this problem and similar problems."
   ]
  },
  {
   "cell_type": "markdown",
   "metadata": {},
   "source": [
    "## Logical Operators\n",
    "\n",
    "Most of the techniques used in this unit will deal with *binary images*, or images that have pixels that can only take the valueu 0 and 1 (black and white images). Binary image are useful because they allow us to use logical operators. Here's a few examples using some tools from `scikit-image`:"
   ]
  },
  {
   "cell_type": "code",
   "execution_count": 110,
   "metadata": {},
   "outputs": [],
   "source": [
    "import matplotlib.pyplot as plt\n",
    "import numpy as np\n",
    "from skimage.morphology.selem import square, disk, star, diamond, rectangle\n",
    "from skimage.util import pad"
   ]
  },
  {
   "cell_type": "code",
   "execution_count": 79,
   "metadata": {},
   "outputs": [],
   "source": [
    "elem1 = np.zeros((31, 42))\n",
    "elem2 = np.zeros((31, 42))\n",
    "elem1[:, 0:31] = disk(15)\n",
    "elem2[:, 11:] = disk(15)\n",
    "#st_elem = star(10)\n",
    "#dif_elem = d_elem\n",
    "int_elem = np.logical_and(elem1, elem2)\n",
    "un_elem = np.logical_or(elem1, elem2)\n",
    "\n",
    "n_elem1 = 1 - elem1\n",
    "n_elem2 = 1 - elem2\n",
    "\n",
    "xor_elem = np.logical_xor(elem1, elem2)\n",
    "cxor_elem = 1 - np.logical_xor(elem1, elem2)"
   ]
  },
  {
   "cell_type": "code",
   "execution_count": 80,
   "metadata": {},
   "outputs": [
    {
     "data": {
      "text/plain": [
       "Text(0.5, 1.0, 'XOR Complement')"
      ]
     },
     "execution_count": 80,
     "metadata": {},
     "output_type": "execute_result"
    },
    {
     "data": {
      "image/png": "[encoded data removed]",
      "text/plain": [
       "<Figure size 432x864 with 8 Axes>"
      ]
     },
     "metadata": {
      "needs_background": "light"
     },
     "output_type": "display_data"
    }
   ],
   "source": [
    "fig, ax = plt.subplots(4, 2, figsize=(6, 12))\n",
    "\n",
    "ax[0, 0].imshow(elem1, cmap='gray')\n",
    "ax[0, 0].axis('off')\n",
    "ax[0, 0].set_title('Disk 1', fontsize=16)\n",
    "\n",
    "ax[0, 1].imshow(elem2, cmap='gray')\n",
    "ax[0, 1].axis('off')\n",
    "ax[0, 1].set_title('Disk 2', fontsize=16)\n",
    "\n",
    "ax[1, 0].imshow(un_elem, cmap='gray')\n",
    "ax[1, 0].axis('off')\n",
    "ax[1, 0].set_title('Intersection', fontsize=16)\n",
    "\n",
    "ax[1, 1].imshow(int_elem, cmap='gray')\n",
    "ax[1, 1].axis('off')\n",
    "ax[1, 1].set_title('Union', fontsize=16)\n",
    "\n",
    "ax[2, 0].imshow(n_elem1, cmap='gray')\n",
    "ax[2, 0].axis('off')\n",
    "ax[2, 0].set_title('Complement 1', fontsize=16)\n",
    "\n",
    "ax[2, 1].imshow(n_elem2, cmap='gray')\n",
    "ax[2, 1].axis('off')\n",
    "ax[2, 1].set_title('Complement 2', fontsize=16)\n",
    "\n",
    "ax[3, 0].imshow(xor_elem, cmap='gray')\n",
    "ax[3, 0].axis('off')\n",
    "ax[3, 0].set_title('XOR', fontsize=16)\n",
    "\n",
    "ax[3, 1].imshow(cxor_elem, cmap='gray')\n",
    "ax[3, 1].axis('off')\n",
    "ax[3, 1].set_title('XOR Complement', fontsize=16)"
   ]
  },
  {
   "cell_type": "markdown",
   "metadata": {},
   "source": [
    "Some other useful functions that you may need for morphological applications are the **reflection** of an image:"
   ]
  },
  {
   "cell_type": "code",
   "execution_count": 74,
   "metadata": {},
   "outputs": [],
   "source": [
    "elem = np.zeros((63, 110))\n",
    "elem[:, 10:73] = diamond(31)"
   ]
  },
  {
   "cell_type": "code",
   "execution_count": 76,
   "metadata": {},
   "outputs": [
    {
     "data": {
      "text/plain": [
       "Text(0.5, 1.0, 'Disk 2')"
      ]
     },
     "execution_count": 76,
     "metadata": {},
     "output_type": "execute_result"
    },
    {
     "data": {
      "image/png": "[encoded data removed]",
      "text/plain": [
       "<Figure size 432x648 with 2 Axes>"
      ]
     },
     "metadata": {
      "needs_background": "light"
     },
     "output_type": "display_data"
    }
   ],
   "source": [
    "fig, ax = plt.subplots(1, 2, figsize=(6, 9))\n",
    "\n",
    "ax[0].imshow(elem, cmap='gray')\n",
    "ax[0].axis('off')\n",
    "ax[0].set_title('Disk 1', fontsize=16)\n",
    "\n",
    "#Note how you can implement the reflection just by using indices.\n",
    "ax[1].imshow(elem[:, ::-1], cmap='gray')\n",
    "ax[1].axis('off')\n",
    "ax[1].set_title('Disk 2', fontsize=16)"
   ]
  },
  {
   "cell_type": "markdown",
   "metadata": {},
   "source": [
    "## Dilation and Erosion\n",
    "\n",
    "Two of the most basic morphological operations are *dilation* and *erosion*. The words are fairly descriptive: can you guess what these two functions do to a binary image?"
   ]
  },
  {
   "cell_type": "code",
   "execution_count": 98,
   "metadata": {},
   "outputs": [],
   "source": [
    "from skimage.morphology import binary_erosion as erode\n",
    "from skimage.morphology import binary_dilation as dilate"
   ]
  },
  {
   "cell_type": "code",
   "execution_count": 107,
   "metadata": {},
   "outputs": [],
   "source": [
    "im = pad(star(31), 5)\n",
    "im_er = erode(im, selem=disk(5))\n",
    "im_dil = dilate(im, selem=disk(5))"
   ]
  },
  {
   "cell_type": "code",
   "execution_count": 109,
   "metadata": {},
   "outputs": [
    {
     "data": {
      "text/plain": [
       "Text(0.5, 1.0, 'Dilation')"
      ]
     },
     "execution_count": 109,
     "metadata": {},
     "output_type": "execute_result"
    },
    {
     "data": {
      "image/png": "[encoded data removed]",
      "text/plain": [
       "<Figure size 720x360 with 3 Axes>"
      ]
     },
     "metadata": {
      "needs_background": "light"
     },
     "output_type": "display_data"
    }
   ],
   "source": [
    "fig, ax = plt.subplots(1, 3, figsize=(10, 5))\n",
    "\n",
    "\n",
    "\n",
    "ax[0].imshow(im, cmap='gray')\n",
    "ax[0].axis('off')\n",
    "\n",
    "ax[1].imshow(im_er, cmap='gray')\n",
    "ax[1].axis('off')\n",
    "ax[1].set_title('Erosion')\n",
    "\n",
    "ax[2].imshow(im_dil, cmap='gray')\n",
    "ax[2].axis('off')\n",
    "ax[2].set_title('Dilation')"
   ]
  },
  {
   "cell_type": "markdown",
   "metadata": {},
   "source": [
    "Mathematically, the dilation of A by B is expressed as:\n",
    "\n",
    "$$A \\oplus B = \\{ z | (\\hat{B})_z  \\cap A \\neq \\emptyset \\}$$\n",
    "\n",
    "This can be read as all elements at location z defined by the intersection of A and the reflection of B shifted z units. Thus, the dilation is the set of all displacements, z, such that B and A overlap by at least one element. You can conceptualize this by sliding the smaller structing element around the image of interest. As long as B and A overlap by at least one unit\n",
    "\n",
    "B is often called the **structuring element** and is defined as **selem** in `scikit-image`."
   ]
  },
  {
   "cell_type": "code",
   "execution_count": null,
   "metadata": {},
   "outputs": [],
   "source": []
  },
  {
   "cell_type": "code",
   "execution_count": 96,
   "metadata": {},
   "outputs": [
    {
     "data": {
      "text/plain": [
       "<matplotlib.image.AxesImage at 0x20fac6ef2e8>"
      ]
     },
     "execution_count": 96,
     "metadata": {},
     "output_type": "execute_result"
    },
    {
     "data": {
      "image/png": "[encoded data removed]",
      "text/plain": [
       "<Figure size 432x288 with 1 Axes>"
      ]
     },
     "metadata": {
      "needs_background": "light"
     },
     "output_type": "display_data"
    }
   ],
   "source": [
    "test = np.random.random((200,200))\n",
    "test = test > 0.92\n",
    "\n",
    "plt.imshow(test, cmap='gray')"
   ]
  },
  {
   "cell_type": "code",
   "execution_count": null,
   "metadata": {},
   "outputs": [],
   "source": []
  }
 ],
 "metadata": {
  "kernelspec": {
   "display_name": "Python 3",
   "language": "python",
   "name": "python3"
  },
  "language_info": {
   "codemirror_mode": {
    "name": "ipython",
    "version": 3
   },
   "file_extension": ".py",
   "mimetype": "text/x-python",
   "name": "python",
   "nbconvert_exporter": "python",
   "pygments_lexer": "ipython3",
   "version": "3.7.2"
  }
 },
 "nbformat": 4,
 "nbformat_minor": 4
}
