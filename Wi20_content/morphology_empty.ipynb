{
 "cells": [
  {
   "cell_type": "markdown",
   "metadata": {},
   "source": [
    "**Morphology**: A tool for extracting image components that are useful in the representation and description of region shape, such as boundaries, skeletons, and the convex hull.\n",
    "\n",
    "**Set theory**: The branch of mathematics which deals with the formal properties of sets as units (without regard to the nature of their individual constituents) and the expression of other branches of mathematics in terms of sets."
   ]
  },
  {
   "cell_type": "markdown",
   "metadata": {},
   "source": [
    "## Introduction\n",
    "\n",
    "This topic is best started out with an example. Let's say you've taken some images on a TEM microscope of a fresh batch of nanoparticles. You want to use this to get some information about the size of your nanoparticles. You have access to the resolution of the microscope, and you have calculated the diameter of the size of a few nanoparticles by hand. But shouldn't there be a way to automate this process? You've tried a few simple manipulations in ImageJ by applying an intensity threshold to create a binary image, but you can tell that some objects in the image are noise, while other particles overlap. Both of these create inaccuracies in your size estimates.\n",
    "\n",
    "How do you approach this problem? This is where the *morphology* toolset comes in handy, and will hopefully aid us in being able to tackle this problem and similar problems."
   ]
  },
  {
   "cell_type": "markdown",
   "metadata": {},
   "source": [
    "## Logical Operators\n",
    "\n",
    "Most of the techniques used in this unit will deal with *binary images*, or images that have pixels that can only take the valueu 0 and 1 (black and white images). Binary image are useful because they allow us to use logical operators. Here's a few examples using some tools from `scikit-image`:"
   ]
  },
  {
   "cell_type": "code",
   "execution_count": 1,
   "metadata": {},
   "outputs": [],
   "source": [
    "import numpy as np\n",
    "import matplotlib.pyplot as plt\n",
    "\n",
    "from skimage.morphology import square, disk, star, diamond, rectangle\n",
    "from skimage.util import pad"
   ]
  },
  {
   "cell_type": "code",
   "execution_count": 11,
   "metadata": {},
   "outputs": [],
   "source": [
    "elem1 = np.zeros((31, 42))\n",
    "elem2 = np.zeros((31, 42))\n",
    "\n",
    "elem1[:, :31] = disk(15)\n",
    "elem2[:, 11:] = disk(15)\n",
    "\n",
    "and_elem = np.logical_and(elem1, elem2)\n",
    "or_elem = np.logical_or(elem1, elem2)\n",
    "\n",
    "elem1i = 1 - elem1\n",
    "elem2i = 1 - elem2\n",
    "\n",
    "xor_elem = np.logical_xor(elem1, elem2)\n",
    "cxor_elem = 1 - np.logical_xor(elem1, elem2)"
   ]
  },
  {
   "cell_type": "code",
   "execution_count": 4,
   "metadata": {},
   "outputs": [
    {
     "data": {
      "text/plain": [
       "(31, 31)"
      ]
     },
     "execution_count": 4,
     "metadata": {},
     "output_type": "execute_result"
    }
   ],
   "source": [
    "disk(15).shape"
   ]
  },
  {
   "cell_type": "code",
   "execution_count": 12,
   "metadata": {},
   "outputs": [
    {
     "data": {
      "text/plain": [
       "<matplotlib.image.AxesImage at 0x23703ce39b0>"
      ]
     },
     "execution_count": 12,
     "metadata": {},
     "output_type": "execute_result"
    },
    {
     "data": {
      "image/png": "[encoded data removed]",
      "text/plain": [
       "<Figure size 432x864 with 8 Axes>"
      ]
     },
     "metadata": {
      "needs_background": "light"
     },
     "output_type": "display_data"
    }
   ],
   "source": [
    "fig, axes = plt.subplots(4, 2, figsize=(6, 12))\n",
    "axes = axes.flatten()\n",
    "\n",
    "for ax in axes:\n",
    "    ax.axis('off')\n",
    "    \n",
    "axes[0].imshow(elem1, cmap='gray')\n",
    "axes[1].imshow(elem2, cmap='gray')\n",
    "\n",
    "axes[2].imshow(and_elem, cmap='gray')\n",
    "axes[3].imshow(or_elem, cmap='gray')\n",
    "\n",
    "axes[4].imshow(elem1i, cmap='gray')\n",
    "axes[5].imshow(elem2i, cmap='gray')\n",
    "\n",
    "axes[6].imshow(xor_elem, cmap='gray')\n",
    "axes[7].imshow(cxor_elem, cmap='gray')"
   ]
  },
  {
   "cell_type": "markdown",
   "metadata": {},
   "source": [
    "Some other useful functions that you may need for morphological applications are the **reflection** of an image:"
   ]
  },
  {
   "cell_type": "code",
   "execution_count": 25,
   "metadata": {},
   "outputs": [],
   "source": [
    "elem = np.zeros((63, 110))\n",
    "elem[:, 10:73] = diamond(31)\n",
    "\n",
    "elem_ref = elem[:, ::-1]"
   ]
  },
  {
   "cell_type": "code",
   "execution_count": 26,
   "metadata": {},
   "outputs": [
    {
     "data": {
      "image/png": "[encoded data removed]",
      "text/plain": [
       "<Figure size 432x648 with 2 Axes>"
      ]
     },
     "metadata": {
      "needs_background": "light"
     },
     "output_type": "display_data"
    }
   ],
   "source": [
    "fig, ax = plt.subplots(1, 2, figsize=(6, 9))\n",
    "\n",
    "ax[0].imshow(elem, cmap='gray')\n",
    "ax[1].imshow(elem_ref, cmap='gray')\n",
    "\n",
    "for axi in ax:\n",
    "    axi.axis('off')"
   ]
  },
  {
   "cell_type": "markdown",
   "metadata": {},
   "source": [
    "## Dilation and Erosion\n",
    "\n",
    "Two of the most basic morphological operations are *dilation* and *erosion*. The words are fairly descriptive: can you guess what these two functions do to a binary image?"
   ]
  },
  {
   "cell_type": "code",
   "execution_count": 27,
   "metadata": {},
   "outputs": [],
   "source": [
    "from skimage.morphology import binary_erosion as erode\n",
    "from skimage.morphology import binary_dilation as dilate"
   ]
  },
  {
   "cell_type": "code",
   "execution_count": 32,
   "metadata": {},
   "outputs": [],
   "source": [
    "im = pad(star(31), 5)\n",
    "im_er = erode(im, selem=star(10))\n",
    "im_dil = dilate(im, selem=star(10))"
   ]
  },
  {
   "cell_type": "code",
   "execution_count": 35,
   "metadata": {
    "scrolled": true
   },
   "outputs": [
    {
     "data": {
      "image/png": "[encoded data removed]",
      "text/plain": [
       "<Figure size 720x360 with 3 Axes>"
      ]
     },
     "metadata": {
      "needs_background": "light"
     },
     "output_type": "display_data"
    }
   ],
   "source": [
    "fig, axes = plt.subplots(1, 3, figsize=(10,5))\n",
    "\n",
    "axes[0].imshow(im, cmap='gray')\n",
    "axes[1].imshow(im_er, cmap='gray')\n",
    "axes[2].imshow(im_dil, cmap='gray')\n",
    "\n",
    "for ax in axes:\n",
    "    ax.axis('off')"
   ]
  },
  {
   "cell_type": "code",
   "execution_count": 34,
   "metadata": {},
   "outputs": [],
   "source": [
    "im_er = erode(im,selem=diamond(10))\n"
   ]
  },
  {
   "cell_type": "markdown",
   "metadata": {},
   "source": [
    "Mathematically, the dilation of A by B is expressed as:\n",
    "\n",
    "$$A \\oplus B = \\{ z | (\\hat{B})_z  \\cap A \\neq \\emptyset \\}$$\n",
    "\n",
    "This can be read as all elements at location z defined by the intersection of A and the reflection of B shifted z units. Thus, the dilation is the set of all displacements, z, such that B and A overlap by at least one element. You can conceptualize this by sliding the smaller structing element around the image of interest. As long as B and A overlap by at least one unit.\n",
    "\n",
    "Similarly, erosion of A by B is expressed as:\n",
    "\n",
    "$$A \\ominus B = \\{ z | (B)_z \\subseteq A \\} $$\n",
    "\n",
    "Or, in words, the erosion of A by B is the set of all points z such that B, translated by z, is contained in A. \n",
    "\n",
    "B is often called the **structuring element** and is defined as **selem** in `scikit-image`."
   ]
  },
  {
   "cell_type": "markdown",
   "metadata": {},
   "source": [
    "One of the most common uses of erosion is for the elimination of irrelevant detail (in terms of size) from a binary image. If we want to eliminate all shapes except large ones, an erosion step is the tool to use. "
   ]
  },
  {
   "cell_type": "code",
   "execution_count": 46,
   "metadata": {},
   "outputs": [],
   "source": [
    "im = np.tile(pad(star(25), 45), (5,5))\n",
    "test = np.random.random(im.shape) > 0.99\n",
    "test = dilate(test, disk(2))\n",
    "im = im | test\n",
    "\n"
   ]
  },
  {
   "cell_type": "code",
   "execution_count": 52,
   "metadata": {},
   "outputs": [
    {
     "data": {
      "text/plain": [
       "<matplotlib.image.AxesImage at 0x237078e24a8>"
      ]
     },
     "execution_count": 52,
     "metadata": {},
     "output_type": "execute_result"
    },
    {
     "data": {
      "image/png": "[encoded data removed]",
      "text/plain": [
       "<Figure size 1008x504 with 2 Axes>"
      ]
     },
     "metadata": {
      "needs_background": "light"
     },
     "output_type": "display_data"
    }
   ],
   "source": [
    "im_e = erode(im, disk(10))\n",
    "\n",
    "fig, axes = plt.subplots(ncols=2, figsize=(14, 7))\n",
    "\n",
    "for ax in axes:\n",
    "    ax.axis('off')\n",
    "    \n",
    "axes[0].imshow(im, cmap='gray')\n",
    "axes[1].imshow(im_e, cmap='gray')"
   ]
  },
  {
   "cell_type": "markdown",
   "metadata": {},
   "source": [
    "## Opening and Closing"
   ]
  },
  {
   "cell_type": "markdown",
   "metadata": {},
   "source": [
    "You may have noticed that, yes, you can use erosions to remove small objects and dilations to connect peninsulas, but now the size isn't accurately represented. Eroded objects are smaller, dilated objects are larger. The solution is to sequentially perform dilations and erosions. For instance, erode small objects by performing an erosion, then restore the surviving objects using a dilation of similar magnitude. These operations have their own mathematical representations:\n",
    "\n",
    "The opening of A by B is defined as:\n",
    "\n",
    "$$A \\circ B = (A \\ominus B) \\oplus B $$\n",
    "\n",
    "And the closing of A by B is defined as:\n",
    "\n",
    "$$A \\bullet B = (A \\oplus B) \\ominus B $$"
   ]
  },
  {
   "cell_type": "code",
   "execution_count": 53,
   "metadata": {},
   "outputs": [],
   "source": [
    "from skimage.morphology import opening, closing"
   ]
  },
  {
   "cell_type": "code",
   "execution_count": 57,
   "metadata": {},
   "outputs": [
    {
     "data": {
      "text/plain": [
       "<matplotlib.image.AxesImage at 0x23705683b70>"
      ]
     },
     "execution_count": 57,
     "metadata": {},
     "output_type": "execute_result"
    },
    {
     "data": {
      "image/png": "[encoded data removed]",
      "text/plain": [
       "<Figure size 1008x504 with 2 Axes>"
      ]
     },
     "metadata": {
      "needs_background": "light"
     },
     "output_type": "display_data"
    }
   ],
   "source": [
    "#im_o = opening(im, disk(3))\n",
    "im_c = closing(im, disk(3))\n",
    "\n",
    "fig, axes = plt.subplots(ncols=2, figsize=(14,7))\n",
    "\n",
    "for ax in axes:\n",
    "    ax.axis('off')\n",
    "    \n",
    "axes[0].imshow(im, cmap='gray')\n",
    "axes[1].imshow(im_c, cmap='gray')"
   ]
  },
  {
   "cell_type": "markdown",
   "metadata": {},
   "source": [
    "# Basic Morphological Algorithms"
   ]
  },
  {
   "cell_type": "markdown",
   "metadata": {},
   "source": [
    "When dealing with binary images, the principle application of morphology is extracting image components that are useful in the representation and description of shape. We are going to consider some algorithms to extract boundaries, connected components, the convex hull, and the skeleton of a region. We will also develop methods (for region filling, thinning, thickening, and pruning) that are used frequently in conjunction with these algorithms and pre- and postprocessing steps. "
   ]
  },
  {
   "cell_type": "markdown",
   "metadata": {},
   "source": [
    "## Boundary Extraction\n",
    "\n",
    "The boundary of a set A can be obtained by eroding A by B (a structuring element) and then taking the difference of A and its erosion:\n",
    "\n",
    "$$\\beta(A) = A - (A \\ominus B) $$"
   ]
  },
  {
   "cell_type": "code",
   "execution_count": 59,
   "metadata": {},
   "outputs": [
    {
     "data": {
      "text/plain": [
       "<matplotlib.image.AxesImage at 0x237057f1898>"
      ]
     },
     "execution_count": 59,
     "metadata": {},
     "output_type": "execute_result"
    },
    {
     "data": {
      "image/png": "[encoded data removed]",
      "text/plain": [
       "<Figure size 1224x432 with 3 Axes>"
      ]
     },
     "metadata": {
      "needs_background": "light"
     },
     "output_type": "display_data"
    }
   ],
   "source": [
    "A = pad(star(30), 50)\n",
    "\n",
    "fig, axes = plt.subplots(ncols=3, figsize=(17, 6))\n",
    "\n",
    "for ax in axes:\n",
    "    ax.axis('off')\n",
    "    \n",
    "axes[0].imshow(A, cmap='gray')\n",
    "axes[1].imshow(erode(A, disk(3)), cmap='gray')\n",
    "axes[2].imshow(A - erode(A, disk(3)), cmap='gray')"
   ]
  },
  {
   "cell_type": "markdown",
   "metadata": {},
   "source": [
    "## Region Filling\n",
    "\n"
   ]
  },
  {
   "cell_type": "code",
   "execution_count": 60,
   "metadata": {},
   "outputs": [],
   "source": [
    "from scipy.ndimage.morphology import binary_fill_holes as fill_holes"
   ]
  },
  {
   "cell_type": "code",
   "execution_count": 62,
   "metadata": {},
   "outputs": [
    {
     "data": {
      "text/plain": [
       "<matplotlib.image.AxesImage at 0x2370557bd68>"
      ]
     },
     "execution_count": 62,
     "metadata": {},
     "output_type": "execute_result"
    },
    {
     "data": {
      "image/png": "[encoded data removed]",
      "text/plain": [
       "<Figure size 1224x576 with 2 Axes>"
      ]
     },
     "metadata": {
      "needs_background": "light"
     },
     "output_type": "display_data"
    }
   ],
   "source": [
    "A = pad(disk(30), 40)\n",
    "\n",
    "im = np.tile(A - erode(A, disk(15)), (7, 7))\n",
    "im_filled = fill_holes(im)\n",
    "\n",
    "fig, axes = plt.subplots(ncols=2, figsize=(17, 8))\n",
    "\n",
    "for ax in axes:\n",
    "    ax.axis('off')\n",
    "    \n",
    "axes[0].imshow(im, cmap='gray')\n",
    "axes[1].imshow(im_filled, cmap='gray')"
   ]
  },
  {
   "cell_type": "markdown",
   "metadata": {},
   "source": [
    "## Convex Hull"
   ]
  },
  {
   "cell_type": "markdown",
   "metadata": {},
   "source": [
    "A set A is said to be convex if the straight line segment joining any two points in A lies entirely within A. The convex hull H of an artibrary set S is the smallest convex set containing S. The set difference H - S is called the convex deficiency of S. The convex hull and convex deficiency are useful in object description.\n",
    "\n",
    "Don't worry about the math on this one-- it involves the hit-or-miss algorithm using the shapes below"
   ]
  },
  {
   "cell_type": "code",
   "execution_count": 63,
   "metadata": {},
   "outputs": [],
   "source": [
    "from skimage.morphology import convex_hull_image\n",
    "from skimage import data\n",
    "from skimage.util import invert"
   ]
  },
  {
   "cell_type": "code",
   "execution_count": 64,
   "metadata": {},
   "outputs": [
    {
     "data": {
      "text/plain": [
       "<matplotlib.image.AxesImage at 0x23709a76048>"
      ]
     },
     "execution_count": 64,
     "metadata": {},
     "output_type": "execute_result"
    },
    {
     "data": {
      "image/png": "[encoded data removed]",
      "text/plain": [
       "<Figure size 1224x576 with 2 Axes>"
      ]
     },
     "metadata": {
      "needs_background": "light"
     },
     "output_type": "display_data"
    }
   ],
   "source": [
    "im = invert(data.horse())\n",
    "im_conv = convex_hull_image(im)\n",
    "\n",
    "fig, axes = plt.subplots(ncols=2, figsize=(17, 8))\n",
    "\n",
    "for ax in axes:\n",
    "    ax.axis('off')\n",
    "    \n",
    "axes[0].imshow(im, cmap='gray')\n",
    "axes[1].imshow(im_conv, cmap='gray')"
   ]
  },
  {
   "cell_type": "code",
   "execution_count": null,
   "metadata": {},
   "outputs": [],
   "source": []
  },
  {
   "cell_type": "markdown",
   "metadata": {},
   "source": [
    "# Thinning"
   ]
  },
  {
   "cell_type": "code",
   "execution_count": 65,
   "metadata": {},
   "outputs": [],
   "source": [
    "from skimage.morphology import thin"
   ]
  },
  {
   "cell_type": "code",
   "execution_count": 67,
   "metadata": {},
   "outputs": [
    {
     "data": {
      "text/plain": [
       "<matplotlib.image.AxesImage at 0x2370ae19748>"
      ]
     },
     "execution_count": 67,
     "metadata": {},
     "output_type": "execute_result"
    },
    {
     "data": {
      "image/png": "[encoded data removed]",
      "text/plain": [
       "<Figure size 1224x576 with 2 Axes>"
      ]
     },
     "metadata": {
      "needs_background": "light"
     },
     "output_type": "display_data"
    }
   ],
   "source": [
    "fig, axes = plt.subplots(ncols=2, figsize=(17, 8))\n",
    "\n",
    "for ax in axes:\n",
    "    ax.axis('off')\n",
    "    \n",
    "axes[0].imshow(im, cmap='gray')\n",
    "axes[1].imshow(dilate(thin(im), disk(1)), cmap='gray')"
   ]
  },
  {
   "cell_type": "code",
   "execution_count": null,
   "metadata": {},
   "outputs": [],
   "source": []
  },
  {
   "cell_type": "markdown",
   "metadata": {},
   "source": [
    "## Thickening"
   ]
  },
  {
   "cell_type": "code",
   "execution_count": null,
   "metadata": {},
   "outputs": [],
   "source": []
  },
  {
   "cell_type": "markdown",
   "metadata": {},
   "source": [
    "## Skeletonization"
   ]
  },
  {
   "cell_type": "markdown",
   "metadata": {},
   "source": [
    "Skeletonization is very similar to thinning, but with more formal rules. To use an anology, imagine that the border of the object are on fire. The thinned image is the last un-burned spot before the whole thing is consumed. The skeleton image is the quench line-- where borders that were burning meet and put each other out."
   ]
  },
  {
   "cell_type": "code",
   "execution_count": null,
   "metadata": {},
   "outputs": [],
   "source": []
  },
  {
   "cell_type": "code",
   "execution_count": null,
   "metadata": {},
   "outputs": [],
   "source": []
  },
  {
   "cell_type": "markdown",
   "metadata": {},
   "source": [
    "## Gray-Scale Versions"
   ]
  },
  {
   "cell_type": "markdown",
   "metadata": {},
   "source": [
    "There are gray-scale equivalents to some of the binary operations we performed above (dilation, erosion, opening, closing). \n",
    "\n",
    "Opening and closing have a simple geometric interpretation. Suppose that we view an image function f(x,y) in a 3D perspective (intensities being expressed as height). The image now appears as a surface. Suppose that we open f by a spherical structuring element b, viewing this element as a rolling \"ball\". The mechanics of opening f by b may be interpreted geometrically as the process of pushing the ball against the underside of the surface. Closing would be the exact same process, but from the top-side."
   ]
  },
  {
   "cell_type": "code",
   "execution_count": null,
   "metadata": {},
   "outputs": [],
   "source": []
  },
  {
   "cell_type": "code",
   "execution_count": null,
   "metadata": {},
   "outputs": [],
   "source": []
  },
  {
   "cell_type": "code",
   "execution_count": null,
   "metadata": {},
   "outputs": [],
   "source": []
  },
  {
   "cell_type": "code",
   "execution_count": null,
   "metadata": {},
   "outputs": [],
   "source": []
  },
  {
   "cell_type": "code",
   "execution_count": null,
   "metadata": {},
   "outputs": [],
   "source": []
  },
  {
   "cell_type": "markdown",
   "metadata": {},
   "source": [
    "**Morphological smoothing**: Grayscale opening and closing give us another tool to perform smoothing on an image. \n",
    "\n",
    "**Morphological gradient**: The morphological gradient (the difference of the opening and the closing) highlight sharp gray-level transitions, another potential tool to base an edge detector off of. As opposed to other gradient methods, gradients obtained this way depend less on edge directionality."
   ]
  },
  {
   "cell_type": "markdown",
   "metadata": {},
   "source": [
    "## Top-hat transformation"
   ]
  },
  {
   "cell_type": "markdown",
   "metadata": {},
   "source": [
    "The top-hat transformation is defined as:\n",
    "\n",
    "$$h = f - (f \\circ b) $$\n",
    "\n",
    "This transformation can be used to remove objects that are large from an image."
   ]
  },
  {
   "cell_type": "code",
   "execution_count": null,
   "metadata": {},
   "outputs": [],
   "source": []
  },
  {
   "cell_type": "code",
   "execution_count": null,
   "metadata": {},
   "outputs": [],
   "source": [
    "im = plt.imread(urllib.request.urlopen('https://upload.wikimedia.org/wikipedia/commons/7/74/Cosmos_original.jpg'), format='jpeg')\n",
    "im = im[:,:,0]"
   ]
  },
  {
   "cell_type": "code",
   "execution_count": null,
   "metadata": {},
   "outputs": [],
   "source": []
  },
  {
   "cell_type": "markdown",
   "metadata": {},
   "source": [
    "## Textural Segmentation"
   ]
  },
  {
   "cell_type": "markdown",
   "metadata": {},
   "source": [
    "Here's one I think is WAY cool. The image below shows particles of two different sizes. The particles of the left are smaller than those on the right. The objective is to find the boundary between the two regions.\n",
    "\n",
    "The first step is to close the input image by using successively larger structuring elements. When the size of the structuring element corresponds to that of the particles, they are removed from the image. Next we perform an opening of the image using a structuring element large in comparison to the gaps between the large particles. This makes a solid mush of grays where the large particles are. We can threshold this image to visualize the boundary."
   ]
  },
  {
   "cell_type": "code",
   "execution_count": null,
   "metadata": {},
   "outputs": [],
   "source": []
  },
  {
   "cell_type": "code",
   "execution_count": null,
   "metadata": {},
   "outputs": [],
   "source": [
    "im2 = img_as_ubyte(plt.imread('https://github.com/uw-cheme599/uw-cheme599.github.io/raw/master/Wi20_content/textural_segmentation.png'))\n",
    "im2 = im2[:, :, 0]"
   ]
  },
  {
   "cell_type": "code",
   "execution_count": null,
   "metadata": {},
   "outputs": [],
   "source": []
  },
  {
   "cell_type": "code",
   "execution_count": null,
   "metadata": {},
   "outputs": [],
   "source": []
  },
  {
   "cell_type": "markdown",
   "metadata": {},
   "source": [
    "## Granulometry\n",
    "\n",
    "Granulometry is a field that deals primarily with determining the size distribution of particles in an image. Opening and closing give us a tool that we can use to do this. The image below shows an image with particles of different sizes. The objects not only are overlapping, but they are also too cluttered to enable detection of individual particles. Because the particles are lighter than the background, the following algorithm can be used to determine the size distribution:\n",
    "\n",
    "Opening operations with structuring elements of increasing size are performed on the original image. The difference between the original image and its opening is computed after each pass. At the end of the process, these differences are normalized and then used to construct a histogram of particle size distribution."
   ]
  },
  {
   "cell_type": "code",
   "execution_count": null,
   "metadata": {},
   "outputs": [],
   "source": [
    "from skimage.transform import rescale"
   ]
  },
  {
   "cell_type": "code",
   "execution_count": null,
   "metadata": {},
   "outputs": [],
   "source": [
    "im3 = img_as_ubyte(plt.imread('https://github.com/uw-cheme599/uw-cheme599.github.io/raw/master/Wi20_content/particles.png'))\n",
    "im3 = im3[:, :, 0]\n",
    "im3 = rescale(im3, 0.3)\n",
    "#plt.imshow(gs_opening(im3, disk(20)), cmap='gray')"
   ]
  },
  {
   "cell_type": "code",
   "execution_count": null,
   "metadata": {},
   "outputs": [],
   "source": []
  },
  {
   "cell_type": "code",
   "execution_count": null,
   "metadata": {},
   "outputs": [],
   "source": []
  },
  {
   "cell_type": "code",
   "execution_count": null,
   "metadata": {},
   "outputs": [],
   "source": []
  },
  {
   "cell_type": "code",
   "execution_count": null,
   "metadata": {},
   "outputs": [],
   "source": []
  },
  {
   "cell_type": "code",
   "execution_count": null,
   "metadata": {},
   "outputs": [],
   "source": []
  },
  {
   "cell_type": "code",
   "execution_count": null,
   "metadata": {},
   "outputs": [],
   "source": []
  },
  {
   "cell_type": "code",
   "execution_count": null,
   "metadata": {},
   "outputs": [],
   "source": []
  },
  {
   "cell_type": "code",
   "execution_count": null,
   "metadata": {},
   "outputs": [],
   "source": []
  },
  {
   "cell_type": "code",
   "execution_count": null,
   "metadata": {},
   "outputs": [],
   "source": []
  }
 ],
 "metadata": {
  "kernelspec": {
   "display_name": "Python (base)",
   "language": "python",
   "name": "base"
  },
  "language_info": {
   "codemirror_mode": {
    "name": "ipython",
    "version": 3
   },
   "file_extension": ".py",
   "mimetype": "text/x-python",
   "name": "python",
   "nbconvert_exporter": "python",
   "pygments_lexer": "ipython3",
   "version": "3.7.2"
  }
 },
 "nbformat": 4,
 "nbformat_minor": 4
}
